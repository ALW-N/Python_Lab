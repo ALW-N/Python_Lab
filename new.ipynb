{
 "cells": [
  {
   "cell_type": "code",
   "execution_count": 1,
   "metadata": {},
   "outputs": [
    {
     "ename": "NameError",
     "evalue": "name 'Tk' is not defined",
     "output_type": "error",
     "traceback": [
      "\u001b[1;31m---------------------------------------------------------------------------\u001b[0m",
      "\u001b[1;31mNameError\u001b[0m                                 Traceback (most recent call last)",
      "Cell \u001b[1;32mIn[1], line 1\u001b[0m\n\u001b[1;32m----> 1\u001b[0m \u001b[39mfrom\u001b[39;00m \u001b[39mtkinter\u001b[39;00m \u001b[39mimport\u001b[39;00m\u001b[39m*\u001b[39m\n\u001b[0;32m      2\u001b[0m base \u001b[39m=\u001b[39m Tk()\n\u001b[0;32m      4\u001b[0m base\u001b[39m.\u001b[39mgeometry(\u001b[39m'\u001b[39m\u001b[39m500x500\u001b[39m\u001b[39m'\u001b[39m)\n",
      "File \u001b[1;32mg:\\CHRIST-MCA\\CLASS-PROGRAMS\\Python\\tkinter.py:2\u001b[0m\n\u001b[0;32m      1\u001b[0m \u001b[39mfrom\u001b[39;00m \u001b[39mtkinter\u001b[39;00m \u001b[39mimport\u001b[39;00m\u001b[39m*\u001b[39m\n\u001b[1;32m----> 2\u001b[0m base \u001b[39m=\u001b[39m Tk()\n\u001b[0;32m      4\u001b[0m base\u001b[39m.\u001b[39mgeometry(\u001b[39m'\u001b[39m\u001b[39m500x500\u001b[39m\u001b[39m'\u001b[39m)\n\u001b[0;32m      5\u001b[0m base\u001b[39m.\u001b[39mtitle(\u001b[39m\"\u001b[39m\u001b[39mRegistration Form\u001b[39m\u001b[39m\"\u001b[39m)\n",
      "\u001b[1;31mNameError\u001b[0m: name 'Tk' is not defined"
     ]
    }
   ],
   "source": []
  }
 ],
 "metadata": {
  "kernelspec": {
   "display_name": "Python 3.10.11 64-bit (microsoft store)",
   "language": "python",
   "name": "python3"
  },
  "language_info": {
   "codemirror_mode": {
    "name": "ipython",
    "version": 3
   },
   "file_extension": ".py",
   "mimetype": "text/x-python",
   "name": "python",
   "nbconvert_exporter": "python",
   "pygments_lexer": "ipython3",
   "version": "3.10.11"
  },
  "orig_nbformat": 4,
  "vscode": {
   "interpreter": {
    "hash": "1704d82db313c30353341b48f5984be14ddf72395b17ffe8652315dced0401ea"
   }
  }
 },
 "nbformat": 4,
 "nbformat_minor": 2
}
