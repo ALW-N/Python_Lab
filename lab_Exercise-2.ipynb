{
 "cells": [
  {
   "cell_type": "code",
   "execution_count": 1,
   "metadata": {},
   "outputs": [
    {
     "name": "stdout",
     "output_type": "stream",
     "text": [
      "['User', 'Artist_id', 'DOB', True]\n",
      "['User', 'Artist_id', 'DOB', True, 'Password']\n",
      "[1, 'User', 'Artist_id', 'DOB', True, 'Password']\n",
      "[1, 'User', 'Artist_id', 'DOB', True, 'Password', 'Genre', 'Artist', ('The', 'Weeknd')]\n"
     ]
    }
   ],
   "source": [
    "# i) Create a LIST with your domain attributes, insert the elements using the append (), insert(), extend() and \n",
    "# add any iterables (tuples, sets, dictionaries etc.) to the list (Use all the methods ).\n",
    "lst=['User','Artist_id',\"DOB\",True]\n",
    "print(lst)\n",
    "lst.append(\"Password\")\n",
    "print(lst)\n",
    "lst.insert(0,1)\n",
    "print(lst)\n",
    "lst.extend(['Genre','Artist',('The','Weeknd')])\n",
    "print(lst)"
   ]
  },
  {
   "cell_type": "code",
   "execution_count": 3,
   "metadata": {},
   "outputs": [
    {
     "name": "stdout",
     "output_type": "stream",
     "text": [
      "[10, 2, 3, 4, -5, -6, 7, 8, 9, 1]\n",
      "[1, 2, 3, 4, -5, -6, 7, 8, 9, 10]\n",
      "Sum = 33\n"
     ]
    }
   ],
   "source": [
    "# Create a list with numeric and perform the following operations.\n",
    "# ·Write a program to swap the first and last elements in a list.\n",
    "listnew=[1,2,3,4,-5,-6,7,8,9,10]\n",
    "firstelement=listnew[0]\n",
    "lastelement=listnew[-1]\n",
    "listnew.pop(0)\n",
    "listnew.pop(-1)\n",
    "listnew.append(firstelement)\n",
    "listnew.insert(0,lastelement)\n",
    "print(listnew)\n",
    "#another way to swap elements\n",
    "listnew[0],listnew[-1] = listnew[-1],listnew[0]\n",
    "print(listnew)\n",
    "# ·Write a program to find the sum of the digits in a list.\n",
    "sum=0\n",
    "for i in listnew:\n",
    "        sum+=i\n",
    "print(\"Sum =\",sum)"
   ]
  },
  {
   "cell_type": "code",
   "execution_count": 4,
   "metadata": {},
   "outputs": [
    {
     "name": "stdout",
     "output_type": "stream",
     "text": [
      "-6\n",
      "-6\n"
     ]
    }
   ],
   "source": [
    "# ·Write a program to find the smallest element in a list.\n",
    "listnew=[1,2,3,4,-5,-6,7,8,9,10]\n",
    "smallest=listnew[0]\n",
    "for j in listnew:\n",
    "    if j<listnew[0]:\n",
    "        smallest=j\n",
    "print(smallest)\n",
    "\n",
    "#another way to find smallest\n",
    "listnew.sort()\n",
    "print(listnew[0])"
   ]
  },
  {
   "cell_type": "code",
   "execution_count": 6,
   "metadata": {},
   "outputs": [
    {
     "name": "stdout",
     "output_type": "stream",
     "text": [
      "{1: 'Drake', 2: '21 Savage', 3: 'The Weeknd', 4: 'Travis Scott'}\n"
     ]
    }
   ],
   "source": [
    "# ii)Dictionaries\n",
    "# ·Sort the dictionaries in ascending order based on the Key of the dictionary.\n",
    "dictionary={3: \"The Weeknd\" , 1: \"Drake\" , 2: \"21 Savage\" , 4: \"Travis Scott\"  }\n",
    "new={}\n",
    "to_a_List=list(dictionary.keys())\n",
    "to_a_List.sort()\n",
    "for i in to_a_List:\n",
    "    sorteddict={i:dictionary[i]}\n",
    "    new.update(sorteddict)\n",
    "print(new)"
   ]
  },
  {
   "cell_type": "code",
   "execution_count": 8,
   "metadata": {},
   "outputs": [
    {
     "name": "stdout",
     "output_type": "stream",
     "text": [
      "Sum : 1000\n"
     ]
    }
   ],
   "source": [
    "# · Create the dictionary with Numeric as Value in Key – Value pair and find the sum of all the values in the Dictionary.\n",
    "dict = {'a': 100, 'b': 200, 'c': 300, 'd':400}\n",
    "list = []\n",
    "sum=0\n",
    "for i in dict:\n",
    "    list.append(dict[i])\n",
    "for j in list:\n",
    "    sum+=j\n",
    "print(\"Sum :\", sum)"
   ]
  },
  {
   "cell_type": "code",
   "execution_count": 9,
   "metadata": {},
   "outputs": [
    {
     "name": "stdout",
     "output_type": "stream",
     "text": [
      "{'d': 400, 'c': 300, 'b': 200, 'a': 100}\n"
     ]
    }
   ],
   "source": [
    "# ·Write a Python code to demonstrate the sorting in descending order of values with lambda function\n",
    "# Sample dictionary\n",
    "data = {'a': 100, 'b': 200, 'c': 300, 'd':400}\n",
    "# Sorting the dictionary in descending order of values using lambda function\n",
    "sorted_data = {k:v for k,v in sorted(data.items(), key=lambda item: item[1], reverse=True)}\n",
    "\n",
    "print(sorted_data)"
   ]
  }
 ],
 "metadata": {
  "kernelspec": {
   "display_name": "Python 3.10.11 64-bit (microsoft store)",
   "language": "python",
   "name": "python3"
  },
  "language_info": {
   "codemirror_mode": {
    "name": "ipython",
    "version": 3
   },
   "file_extension": ".py",
   "mimetype": "text/x-python",
   "name": "python",
   "nbconvert_exporter": "python",
   "pygments_lexer": "ipython3",
   "version": "3.10.11"
  },
  "orig_nbformat": 4,
  "vscode": {
   "interpreter": {
    "hash": "1704d82db313c30353341b48f5984be14ddf72395b17ffe8652315dced0401ea"
   }
  }
 },
 "nbformat": 4,
 "nbformat_minor": 2
}
