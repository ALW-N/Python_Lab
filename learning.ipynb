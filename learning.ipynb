{
 "cells": [
  {
   "cell_type": "code",
   "execution_count": 1,
   "metadata": {},
   "outputs": [
    {
     "name": "stdout",
     "output_type": "stream",
     "text": [
      "The area of the parallelogram is: 100.0\n"
     ]
    }
   ],
   "source": [
    "base = float(input(\"Enter the length of the base: \"))\n",
    "height = float(input(\"Enter the measurement of the height: \"))\n",
    "\n",
    "area = base * height\n",
    "\n",
    "print(\"The area of the parallelogram is:\", area)"
   ]
  },
  {
   "cell_type": "code",
   "execution_count": 1,
   "metadata": {},
   "outputs": [
    {
     "name": "stdout",
     "output_type": "stream",
     "text": [
      "The angle in degrees is: 143.2394487827058\n"
     ]
    }
   ],
   "source": [
    "import math\n",
    "\n",
    "radians = float(input(\"Enter the angle in radians: \"))\n",
    "\n",
    "degrees = math.degrees(radians)\n",
    "\n",
    "print(\"The angle in degrees is:\", degrees)"
   ]
  },
  {
   "cell_type": "code",
   "execution_count": 2,
   "metadata": {},
   "outputs": [
    {
     "name": "stdout",
     "output_type": "stream",
     "text": [
      "Surface area of the sphere is:  314.1592653589793\n",
      "Volume of the sphere is:  523.5987755982989\n"
     ]
    }
   ],
   "source": [
    "import math\n",
    "\n",
    "r = float(input(\"Enter the radius of the sphere: \"))\n",
    "\n",
    "surface_area = 4 * math.pi * r ** 2\n",
    "\n",
    "volume = (4/3) * math.pi * r ** 3\n",
    "\n",
    "print(\"Surface area of the sphere is: \", surface_area)\n",
    "print(\"Volume of the sphere is: \", volume)"
   ]
  },
  {
   "cell_type": "code",
   "execution_count": null,
   "metadata": {},
   "outputs": [],
   "source": []
  }
 ],
 "metadata": {
  "kernelspec": {
   "display_name": "Python 3.10.11 64-bit (microsoft store)",
   "language": "python",
   "name": "python3"
  },
  "language_info": {
   "codemirror_mode": {
    "name": "ipython",
    "version": 3
   },
   "file_extension": ".py",
   "mimetype": "text/x-python",
   "name": "python",
   "nbconvert_exporter": "python",
   "pygments_lexer": "ipython3",
   "version": "3.10.11"
  },
  "orig_nbformat": 4,
  "vscode": {
   "interpreter": {
    "hash": "1704d82db313c30353341b48f5984be14ddf72395b17ffe8652315dced0401ea"
   }
  }
 },
 "nbformat": 4,
 "nbformat_minor": 2
}
