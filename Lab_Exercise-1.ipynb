{
 "cells": [
  {
   "cell_type": "code",
   "execution_count": 1,
   "metadata": {},
   "outputs": [
    {
     "name": "stdout",
     "output_type": "stream",
     "text": [
      "\n",
      "My name is Alwin Tomy reg.no: 2347207, pursuing MCA for the academic year 2023-24.\n",
      "The domain I chose for Python lab is Music Streaming Service.\n",
      "\n",
      "The word 'python' appears 1 times in the paragraph.\n"
     ]
    }
   ],
   "source": [
    "#Lab Exercise \n",
    "#1.a)Write a paragraph about introducing you and your selected domain (include Full Name, domain name, register number, year …….).\n",
    "#1.a)Write a python program to count the frequency of any specific word (your domain name) in the paragraph.\n",
    "def count_word_frequency(paragraph, word):\n",
    "    paragraph = paragraph.lower()\n",
    "    words = paragraph.split()\n",
    "    count = 0\n",
    "    for w in words:\n",
    "        if w == word.lower():\n",
    "            count += 1\n",
    "\n",
    "    return count\n",
    "\n",
    "intro_paragraph = \"\"\"\n",
    "My name is Alwin Tomy reg.no: 2347207, pursuing MCA for the academic year 2023-24.\n",
    "The domain I chose for Python lab is Music Streaming Service.\n",
    "\"\"\"\n",
    "\n",
    "word_to_find = \"python\"\n",
    "\n",
    "frequency = count_word_frequency(intro_paragraph, word_to_find)\n",
    "print(intro_paragraph)\n",
    "\n",
    "print(f\"The word '{word_to_find}' appears {frequency} times in the paragraph.\")\n"
   ]
  },
  {
   "cell_type": "code",
   "execution_count": 3,
   "metadata": {},
   "outputs": [
    {
     "name": "stdout",
     "output_type": "stream",
     "text": [
      "My - string\n",
      "name - string\n",
      "is - string\n",
      "Alwin - string\n",
      "Tomy - string\n",
      "regno - string\n",
      "2347207 - int\n",
      "pursuing - string\n",
      "MCA - string\n",
      "for - string\n",
      "the - string\n",
      "academic - string\n",
      "year - string\n",
      "202324 - int\n",
      "The - string\n",
      "domain - string\n",
      "I - string\n",
      "chose - string\n",
      "for - string\n",
      "Python - string\n",
      "lab - string\n",
      "is - string\n",
      "Music - string\n",
      "Streaming - string\n",
      "Service - string\n"
     ]
    }
   ],
   "source": [
    "# Write a python program to display all the datatypes of selected specific elemenst in a paragraph\n",
    "\n",
    "def get_data_type(element):\n",
    "    try:\n",
    "        int(element)\n",
    "        return \"int\"\n",
    "    except ValueError:\n",
    "        try:\n",
    "            float(element)\n",
    "            return \"float\"\n",
    "        except ValueError:\n",
    "            return \"string\"\n",
    "\n",
    "def main():\n",
    "    paragraph = \"\"\"\n",
    "    My name is Alwin Tomy reg.no: 2347207, pursuing MCA for the academic year 2023-24.\n",
    "    The domain I chose for Python lab is Music Streaming Service.\n",
    "    \"\"\"\n",
    "    words = \"\".join(e for e in paragraph if e.isalnum() or e.isspace()).split()\n",
    "\n",
    "    for word in words:\n",
    "        data_type = get_data_type(word)\n",
    "        print(f\"{word} - {data_type}\")\n",
    "\n",
    "main()\n"
   ]
  },
  {
   "cell_type": "code",
   "execution_count": 4,
   "metadata": {},
   "outputs": [
    {
     "name": "stdout",
     "output_type": "stream",
     "text": [
      "Paragraph:\n",
      "\n",
      "    My name is Alwin Tomy reg.no: 2347207, pursuing MCA for the academic year 2023-24.\n",
      "    The domain I chose for Python lab is Music Streaming Service.\n",
      "    \n",
      "\n",
      "Character Counts:\n",
      "Alphabets: 101\n",
      "Numerics: 13\n",
      "Special Symbols: 44\n"
     ]
    }
   ],
   "source": [
    "#Write a python program to count the number of alphabets, numeric and other special symbols in the paragraph.\n",
    "def count_characters(paragraph):\n",
    "    alphabet_count = 0\n",
    "    numeric_count = 0\n",
    "    special_count = 0\n",
    "\n",
    "    for char in paragraph:\n",
    "        if char.isalpha():\n",
    "            alphabet_count += 1\n",
    "        elif char.isdigit():\n",
    "            numeric_count += 1\n",
    "        else:\n",
    "            special_count += 1\n",
    "\n",
    "    return alphabet_count, numeric_count, special_count\n",
    "\n",
    "def main():\n",
    "    intro_paragraph = \"\"\"\n",
    "    My name is Alwin Tomy reg.no: 2347207, pursuing MCA for the academic year 2023-24.\n",
    "    The domain I chose for Python lab is Music Streaming Service.\n",
    "    \"\"\"\n",
    "\n",
    "    print(\"Paragraph:\")\n",
    "    print(intro_paragraph)\n",
    "\n",
    "    alphabet_count, numeric_count, special_count = count_characters(intro_paragraph)\n",
    "\n",
    "    print(\"\\nCharacter Counts:\")\n",
    "    print(f\"Alphabets: {alphabet_count}\")\n",
    "    print(f\"Numerics: {numeric_count}\")\n",
    "    print(f\"Special Symbols: {special_count}\")\n",
    "\n",
    "main()\n"
   ]
  },
  {
   "cell_type": "code",
   "execution_count": 11,
   "metadata": {},
   "outputs": [
    {
     "name": "stdout",
     "output_type": "stream",
     "text": [
      "Original Set: {True, 4.75, 'Username ', 2022, 1000, 'UserId'}\n",
      "Element popped using pop(): True, New Set: {4.75, 'Username ', 2022, 1000, 'UserId'}\n",
      "Set after clear(): set()\n",
      "Set after discarding '2022': {True, 4.75, 'Username ', 1000, 'UserId'}\n",
      "The set 'data_set' no longer exists.\n"
     ]
    }
   ],
   "source": [
    "#Create a Set with elements that consists of various data types (int, float, string, Boolean, etc. from your domain)\n",
    "#and perform the functions pop(), clear(), discard() and del. Write the insights as docstring.\n",
    "\n",
    "def set_operations_example():\n",
    "    data_set = {1000, 2022, \"UserId\", True, \"Username \", 4.75}\n",
    "\n",
    "    print(\"Original Set:\", data_set)\n",
    "\n",
    "    popped_element = data_set.pop()\n",
    "    print(f\"Element popped using pop(): {popped_element}, New Set: {data_set}\")\n",
    "\n",
    "    data_set.clear()\n",
    "    print(\"Set after clear():\", data_set)\n",
    "\n",
    "    data_set = {1000, 2022, \"UserId\", True, \"Username \", 4.75}\n",
    "    data_set.discard(2022)\n",
    "    print(\"Set after discarding '2022':\", data_set)\n",
    "\n",
    "    del data_set\n",
    "    try:\n",
    "        print(\"Set after deleting:\", data_set)\n",
    "    except NameError:\n",
    "        print(\"The set 'data_set' no longer exists.\")\n",
    "\n",
    "set_operations_example()\n"
   ]
  },
  {
   "cell_type": "code",
   "execution_count": 2,
   "metadata": {},
   "outputs": [
    {
     "name": "stdout",
     "output_type": "stream",
     "text": [
      "{'UserID', 10, 'Artist', 'Genre'}\n",
      "{'Likes', 10, 'UserID', 'Followers', 'Time', 'Genre', 'Artist'}\n"
     ]
    }
   ],
   "source": [
    "# Update the Set with minimum 5 string attributes of your domain and arrange the Set in descending order.\n",
    "music_streaming_service = {\"UserID\", \"Artist\", 10, \"Genre\"}\n",
    "print(music_streaming_service)\n",
    "music_streaming_service.update([\"Time\",\"Likes\", \"Followers\"])\n",
    "print(music_streaming_service)\n"
   ]
  },
  {
   "cell_type": "code",
   "execution_count": 4,
   "metadata": {},
   "outputs": [
    {
     "name": "stdout",
     "output_type": "stream",
     "text": [
      "Initial set: {'Followers', 'Genre', 'Likes', 'Artist', 'UserId'}\n",
      "\n",
      "Set in descending order: ['UserId', 'Likes', 'Genre', 'Followers', 'Artist']\n"
     ]
    }
   ],
   "source": [
    "# arrange the Set in descending order.\n",
    "def music_streaming_service_demo():\n",
    "    music_streaming_service = {\"UserId\", \"Artist\", \"Followers\", \"Genre\", \"Likes\"}\n",
    "    print(\"Initial set:\", music_streaming_service)\n",
    "    descending_set = sorted(music_streaming_service, reverse=True)\n",
    "    print(\"\\nSet in descending order:\", descending_set)\n",
    "\n",
    "music_streaming_service_demo()\n"
   ]
  },
  {
   "cell_type": "code",
   "execution_count": 10,
   "metadata": {},
   "outputs": [
    {
     "name": "stdout",
     "output_type": "stream",
     "text": [
      "Unpacked Variables:\n",
      "User ID: UserId123\n",
      "Email: alwintomy11.com\n",
      "Password: password123\n",
      "Artist ID: Artist001\n",
      "Genre: Pop\n"
     ]
    }
   ],
   "source": [
    " #Create a Tuple and Execute the packing and unpacking operations of tuples using the attributes of your domain.\n",
    "\n",
    "def tuple_operations_example():\n",
    "    user_data = (\"UserId123\", \"alwintomy11@gmail.com\", \"password123\", \"Artist001\", \"Pop\")\n",
    "    (user_id, email, password, artist_id, genre) = user_data\n",
    "    \n",
    "    print(\"Unpacked Variables:\")\n",
    "    print(f\"User ID: {user_id}\")\n",
    "    print(f\"Email: {email}\")\n",
    "    print(f\"Password: {password}\")\n",
    "    print(f\"Artist ID: {artist_id}\")\n",
    "    print(f\"Genre: {genre}\")\n",
    "\n",
    "tuple_operations_example()\n"
   ]
  },
  {
   "cell_type": "code",
   "execution_count": 9,
   "metadata": {},
   "outputs": [
    {
     "name": "stdout",
     "output_type": "stream",
     "text": [
      "Count of 'M' = 1\n",
      "Count of 'u' = 1\n",
      "Count of 's' = 1\n",
      "Count of 'i' = 3\n",
      "Count of 'c' = 2\n",
      "Count of ' ' = 2\n",
      "Count of 'S' = 2\n",
      "Count of 't' = 1\n",
      "Count of 'r' = 2\n",
      "Count of 'e' = 3\n",
      "Count of 'a' = 1\n",
      "Count of 'm' = 1\n",
      "Count of 'i' = 3\n",
      "Count of 'n' = 1\n",
      "Count of 'g' = 1\n",
      "Count of ' ' = 2\n",
      "Count of 'S' = 2\n",
      "Count of 'e' = 3\n",
      "Count of 'r' = 2\n",
      "Count of 'v' = 1\n",
      "Count of 'i' = 3\n",
      "Count of 'c' = 2\n",
      "Count of 'e' = 3\n"
     ]
    }
   ],
   "source": [
    " #Create a Tuple and Execute the packing and unpacking operations of tuples using the attributes of your domain.\n",
    "\n",
    "def count_characters(domain, character):\n",
    "    return domain.count(character)\n",
    "\n",
    "def main():\n",
    "    domain_name = \"Music Streaming Service\"\n",
    "    characters = ['M', 'u', 's', 'i', 'c', ' ', 'S', 't', 'r', 'e', 'a', 'm', 'i', 'n', 'g', ' ', 'S', 'e', 'r', 'v', 'i', 'c', 'e']\n",
    "\n",
    "    for char in characters:\n",
    "        count = count_characters(domain_name, char)\n",
    "        print(f\"Count of '{char}' = {count}\")\n",
    "main()\n"
   ]
  },
  {
   "cell_type": "code",
   "execution_count": 12,
   "metadata": {},
   "outputs": [
    {
     "name": "stdout",
     "output_type": "stream",
     "text": [
      "Original String: Music Streaming Service\n",
      "Substring from index 0 to 4: Music\n",
      "Substring from index 6 to 15: Streaming \n",
      "Every second character: MscSraigSrie\n",
      "Reverse the string: ecivreS gnimaertS cisuM\n",
      "Last character using negative index: e\n",
      "Second last character using negative index: c\n",
      "Substring from -7 to -1 using negative index: Service\n"
     ]
    }
   ],
   "source": [
    "# Enter your domain name, execute all the slicing possibilities and also negative indexing.\n",
    "\n",
    "def main():\n",
    "    domain_name = \"Music Streaming Service\"\n",
    "\n",
    "    print(\"Original String:\", domain_name)\n",
    "    print(\"Substring from index 0 to 4:\", domain_name[0:5])      \n",
    "    print(\"Substring from index 6 to 15:\", domain_name[6:16])     \n",
    "    print(\"Every second character:\", domain_name[::2])           \n",
    "    print(\"Reverse the string:\", domain_name[::-1])               \n",
    "\n",
    "    print(\"Last character using negative index:\", domain_name[-1])\n",
    "    print(\"Second last character using negative index:\", domain_name[-2])\n",
    "    print(\"Substring from -7 to -1 using negative index:\", domain_name[-7:]) \n",
    "\n",
    "main()\n"
   ]
  }
 ],
 "metadata": {
  "kernelspec": {
   "display_name": "Python 3.10.11 64-bit (microsoft store)",
   "language": "python",
   "name": "python3"
  },
  "language_info": {
   "codemirror_mode": {
    "name": "ipython",
    "version": 3
   },
   "file_extension": ".py",
   "mimetype": "text/x-python",
   "name": "python",
   "nbconvert_exporter": "python",
   "pygments_lexer": "ipython3",
   "version": "3.10.11"
  },
  "orig_nbformat": 4,
  "vscode": {
   "interpreter": {
    "hash": "1704d82db313c30353341b48f5984be14ddf72395b17ffe8652315dced0401ea"
   }
  }
 },
 "nbformat": 4,
 "nbformat_minor": 2
}
