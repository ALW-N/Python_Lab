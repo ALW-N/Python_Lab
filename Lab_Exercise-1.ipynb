{
 "cells": [
  {
   "cell_type": "code",
   "execution_count": 2,
   "metadata": {},
   "outputs": [
    {
     "name": "stdout",
     "output_type": "stream",
     "text": [
      "The word 'python' appears 1 times in the paragraph.\n"
     ]
    }
   ],
   "source": [
    "def count_word_frequency(paragraph, word):\n",
    "    paragraph = paragraph.lower()\n",
    "    words = paragraph.split()\n",
    "    count = 0\n",
    "\n",
    "    # Loop through each word in the paragraph and count occurrences of the specified word\n",
    "    for w in words:\n",
    "        if w == word.lower():\n",
    "            count += 1\n",
    "\n",
    "    return count\n",
    "\n",
    "if __name__ == \"__main__\":\n",
    "    sample_paragraph = \"\"\"\n",
    "    My name is Alwin Tomy reg.no: 2347207, pursuing MCA for the academic year 2023-24.\n",
    "    The domain I chose for Python lab is Music Streaming Service.\n",
    "    \"\"\"\n",
    "\n",
    "    word_to_find = \"python\"\n",
    "\n",
    "    # Call the function to get the frequency of the word\n",
    "    frequency = count_word_frequency(sample_paragraph, word_to_find)\n",
    "\n",
    "    print(f\"The word '{word_to_find}' appears {frequency} times in the paragraph.\")"
   ]
  }
 ],
 "metadata": {
  "kernelspec": {
   "display_name": "Python 3.10.11 64-bit (microsoft store)",
   "language": "python",
   "name": "python3"
  },
  "language_info": {
   "codemirror_mode": {
    "name": "ipython",
    "version": 3
   },
   "file_extension": ".py",
   "mimetype": "text/x-python",
   "name": "python",
   "nbconvert_exporter": "python",
   "pygments_lexer": "ipython3",
   "version": "3.10.11"
  },
  "orig_nbformat": 4,
  "vscode": {
   "interpreter": {
    "hash": "1704d82db313c30353341b48f5984be14ddf72395b17ffe8652315dced0401ea"
   }
  }
 },
 "nbformat": 4,
 "nbformat_minor": 2
}
