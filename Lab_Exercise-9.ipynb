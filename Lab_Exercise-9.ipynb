{
 "cells": [
  {
   "cell_type": "code",
   "execution_count": 1,
   "metadata": {},
   "outputs": [
    {
     "name": "stdout",
     "output_type": "stream",
     "text": [
      "Array indexing:\n",
      "1\n",
      "3\n",
      "5\n",
      "Fancy indexing:\n",
      "[1 3 5]\n",
      "[3 4 5]\n",
      "[1 3 5]\n"
     ]
    }
   ],
   "source": [
    "#write a program to display array indexing and fancy indexing\n",
    "import numpy as np\n",
    "# Create a NumPy array\n",
    "arr = np.array([1, 2, 3, 4, 5])\n",
    "# Array indexing\n",
    "print(\"Array indexing:\")\n",
    "print(arr[0]) \n",
    "print(arr[2]) \n",
    "print(arr[-1]) \n",
    "# Fancy indexing\n",
    "print(\"Fancy indexing:\")\n",
    "print(arr[[0, 2, 4]]) \n",
    "print(arr[arr > 2])\n",
    "print(arr[np.arange(len(arr)) % 2 == 0]) "
   ]
  },
  {
   "cell_type": "code",
   "execution_count": 2,
   "metadata": {},
   "outputs": [
    {
     "name": "stdout",
     "output_type": "stream",
     "text": [
      "2D array slicing:\n",
      "1\n",
      "6\n",
      "[7 8 9]\n",
      "[2 5 8]\n",
      "[[4 5]\n",
      " [7 8]]\n"
     ]
    }
   ],
   "source": [
    "#2 Execute a 2D array\n",
    "import numpy as np\n",
    "# Create a 2D array\n",
    "arr = np.array([[1, 2, 3], [4, 5, 6], [7, 8, 9]])\n",
    "# 2D array slicing\n",
    "print(\"2D array slicing:\")\n",
    "print(arr[0, 0])\n",
    "print(arr[1, 2])\n",
    "print(arr[2, :])\n",
    "print(arr[:, 1]) \n",
    "print(arr[1:, :2])"
   ]
  },
  {
   "cell_type": "code",
   "execution_count": 4,
   "metadata": {},
   "outputs": [
    {
     "name": "stdout",
     "output_type": "stream",
     "text": [
      "[[[[[ 1  2  3  4  5]\n",
      "    [ 6  7  8  9 10]\n",
      "    [11 12 13 14 15]]\n",
      "\n",
      "   [[16 17 18 19 20]\n",
      "    [21 22 23 24 25]\n",
      "    [26 27 28 29 30]]\n",
      "\n",
      "   [[31 32 33 34 35]\n",
      "    [36 37 38 39 40]\n",
      "    [41 42 43 44 45]]\n",
      "\n",
      "   [[46 47 48 49 50]\n",
      "    [51 52 53 54 55]\n",
      "    [56 57 58 59 60]]]]]\n"
     ]
    }
   ],
   "source": [
    "#3.5D array with ndim\n",
    "import numpy as np\n",
    "\n",
    "# create a 5D array with shape (1, 2, 3, 4, 5)\n",
    "arr = np.array([[[[[1, 2, 3, 4, 5],\n",
    "                   [6, 7, 8, 9, 10],\n",
    "                   [11, 12, 13, 14, 15]],\n",
    "                  [[16, 17, 18, 19, 20],\n",
    "                   [21, 22, 23, 24, 25],\n",
    "                   [26, 27, 28, 29, 30]],\n",
    "                  [[31, 32, 33, 34, 35],\n",
    "                   [36, 37, 38, 39, 40],\n",
    "                   [41, 42, 43, 44, 45]],\n",
    "                  [[46, 47, 48, 49, 50],\n",
    "                   [51, 52, 53, 54, 55],\n",
    "                   [56, 57, 58, 59, 60]]]]], ndmin=5)\n",
    "\n",
    "print(arr)\n"
   ]
  },
  {
   "cell_type": "code",
   "execution_count": 7,
   "metadata": {},
   "outputs": [
    {
     "name": "stdout",
     "output_type": "stream",
     "text": [
      "[ 1  2  3  4  5  6  7  8  9 10]\n",
      "[[ 1  2]\n",
      " [ 3  4]\n",
      " [ 5  6]\n",
      " [ 7  8]\n",
      " [ 9 10]]\n"
     ]
    }
   ],
   "source": [
    "#4 Reshape the array from 1-D to 2-D array.\n",
    "import numpy as np\n",
    "# Create a 1-D array\n",
    "arr = np.array([1, 2, 3, 4, 5, 6, 7, 8, 9, 10])\n",
    "print(arr)\n",
    "# Reshape the array into a 2-D array\n",
    "new_arr = arr.reshape((5, 2))\n",
    "# Print the new array\n",
    "print(new_arr)"
   ]
  },
  {
   "cell_type": "code",
   "execution_count": 10,
   "metadata": {},
   "outputs": [
    {
     "name": "stdout",
     "output_type": "stream",
     "text": [
      "[[1 2 3]\n",
      " [4 5 6]\n",
      " [7 8 9]]\n",
      "[1 2 3 4 5 6 7 8 9]\n",
      "[[1 2 3]\n",
      " [4 5 6]\n",
      " [7 8 9]]\n",
      "[[[1 4 7]\n",
      "  [2 5 8]\n",
      "  [3 6 9]]]\n"
     ]
    }
   ],
   "source": [
    "#5 Perform the Stack functions in Numpy arrays – Stack(), hstack(), vstack(), and dstack().\n",
    "\n",
    "import numpy as np\n",
    "\n",
    "# Create some arrays to stack\n",
    "arr1 = np.array([1, 2, 3])\n",
    "arr2 = np.array([4, 5, 6])\n",
    "arr3 = np.array([7, 8, 9])\n",
    "\n",
    "# Stack the arrays using different functions\n",
    "stacked = np.stack((arr1, arr2, arr3))\n",
    "hstacked = np.hstack((arr1, arr2, arr3))\n",
    "vstacked = np.vstack((arr1, arr2, arr3))\n",
    "dstacked = np.dstack((arr1, arr2, arr3))\n",
    "\n",
    "# Print the stacked arrays\n",
    "print(stacked)\n",
    "print(hstacked)\n",
    "print(vstacked)\n",
    "print(dstacked)"
   ]
  },
  {
   "cell_type": "code",
   "execution_count": 11,
   "metadata": {},
   "outputs": [
    {
     "name": "stdout",
     "output_type": "stream",
     "text": [
      "[1 3 5 6 7 9]\n"
     ]
    }
   ],
   "source": [
    "#6 Perform the searchsort method in Numpy array. \n",
    "\n",
    "import numpy as np\n",
    "\n",
    "# Create a sorted array\n",
    "arr = np.array([1, 3, 5, 7, 9])\n",
    "\n",
    "# Search for the index where 6 should be inserted\n",
    "index = np.searchsorted(arr, 6)\n",
    "\n",
    "# Insert 6 into the array at the correct index\n",
    "arr = np.insert(arr, index, 6)\n",
    "\n",
    "# Print the sorted array with 6 inserted\n",
    "print(arr)"
   ]
  },
  {
   "cell_type": "code",
   "execution_count": 18,
   "metadata": {},
   "outputs": [
    {
     "name": "stdout",
     "output_type": "stream",
     "text": [
      "[('The Weeknd', 123, 33, 5000) ('21 Savage', 112, 28, 1000)\n",
      " ('Aubrey', 122, 34, 1500) ('Lil Uzi Vertz', 121, 32, 5000)\n",
      " ('Lil wayne', 124, 55, 9000) ('Eminem', 129, 45, 9000)]\n"
     ]
    }
   ],
   "source": [
    "#7 Create Numpy Structured array using your domain features. \n",
    "\n",
    "import numpy as np\n",
    "\n",
    "# Define the structured array data type\n",
    "music_dtype = np.dtype([\n",
    "    ('artist_name', 'U50'),  \n",
    "    ('artist_id', int),\n",
    "    ('age', int),\n",
    "    ('followers', int)\n",
    "])\n",
    "\n",
    "music_array = np.empty(6, dtype=music_dtype)\n",
    "\n",
    "# Add data to the structured array\n",
    "music_array[0] = ('The Weeknd', 123, 33, 5000)\n",
    "music_array[1] = ('21 Savage', 112, 28, 1000)\n",
    "music_array[2] = ('Aubrey', 122, 34, 1500)\n",
    "music_array[3] = ('Lil Uzi Vertz', 121, 32, 5000)\n",
    "music_array[4] = ('Lil wayne', 124, 55, 9000)\n",
    "music_array[5] = ('Eminem', 129, 45, 9000)\n",
    "\n",
    "# Print the structured array\n",
    "print(music_array)\n"
   ]
  },
  {
   "cell_type": "code",
   "execution_count": 19,
   "metadata": {},
   "outputs": [
    {
     "name": "stdout",
     "output_type": "stream",
     "text": [
      "         name                  real_name  age  followers\n",
      "0  The Weeknd                       Abel   33      500.0\n",
      "1   21 Savage  Shéyaa Bin Abraham-Joseph   22     1000.0\n",
      "2   lil wayne  Dwayne Michael Carter Jr.   41      300.0\n",
      "         name                  real_name  age  followers\n",
      "0  The Weeknd                       Abel   33      500.0\n",
      "1   21 Savage  Shéyaa Bin Abraham-Joseph   22     1000.0\n",
      "2   lil wayne  Dwayne Michael Carter Jr.   41      300.0\n"
     ]
    }
   ],
   "source": [
    "#Q8. Create Data frame using List and Dictionary. \n",
    "\n",
    "import pandas as pd\n",
    "\n",
    "# Create a list of dictionaries\n",
    "artist = [\n",
    "    {'name': 'The Weeknd', 'real_name': 'Abel', 'age': 33, 'followers': 500.0},\n",
    "    {'name': '21 Savage', 'real_name': 'Shéyaa Bin Abraham-Joseph', 'age': 22, 'followers': 1000.0},\n",
    "    {'name': 'lil wayne', 'real_name': 'Dwayne Michael Carter Jr.', 'age': 41, 'followers': 300.0}\n",
    "]\n",
    "\n",
    "# Create a DataFrame using pd.DataFrame()\n",
    "df1 = pd.DataFrame(artist)\n",
    "\n",
    "# Create a DataFrame using pd.DataFrame.from_dict()\n",
    "df2 = pd.DataFrame.from_dict(artist)\n",
    "\n",
    "# Print the resulting DataFrames\n",
    "print(df1)\n",
    "print(df2)"
   ]
  },
  {
   "cell_type": "code",
   "execution_count": 20,
   "metadata": {},
   "outputs": [
    {
     "name": "stdout",
     "output_type": "stream",
     "text": [
      "    name  real_name    age  folllowers\n",
      "0  False      False  False       False\n",
      "1  False      False  False       False\n",
      "2  False      False  False       False\n",
      "3   True      False   True        True\n",
      "    name  real_name    age  folllowers\n",
      "0   True       True   True        True\n",
      "1   True       True   True        True\n",
      "2   True       True   True        True\n",
      "3  False       True  False       False\n",
      "         name                  real_name   age  folllowers\n",
      "0  The Weeknd                       Abel  33.0      5000.0\n",
      "1   21 Savage  Shéyaa Bin Abraham-Joseph  29.0      1000.0\n",
      "2       Drake                     Aubrey  41.0      1300.0\n"
     ]
    },
    {
     "name": "stderr",
     "output_type": "stream",
     "text": [
      "C:\\Users\\alwin\\AppData\\Local\\Temp\\ipykernel_16564\\292552399.py:33: FutureWarning: DataFrame.interpolate with object dtype is deprecated and will raise in a future version. Call obj.infer_objects(copy=False) before interpolating instead.\n",
      "  df = df.interpolate()\n"
     ]
    }
   ],
   "source": [
    "#Q9. Create Data frame on your Domain area and perform the following operations to find and eliminate the  missing data from the dataset. \n",
    "\n",
    "import pandas as pd\n",
    "import numpy as np\n",
    "\n",
    "# Create a dictionary of pets\n",
    "music = {\n",
    "    'name': ['The Weeknd', '21 Savage', 'Drake',  np.nan],\n",
    "    'real_name': ['Abel', 'Shéyaa Bin Abraham-Joseph', 'Aubrey', 'Travis Scott'],\n",
    "    'age': [33, 29, 41, np.nan],\n",
    "    'folllowers': [5000.0, 1000.0, 1300.0, np.nan]\n",
    "}\n",
    "\n",
    "# Create a DataFrame from the dictionary\n",
    "df = pd.DataFrame(music)\n",
    "\n",
    "# Check for missing data\n",
    "print(df.isnull())\n",
    "\n",
    "# Check for non-missing data\n",
    "print(df.notnull())\n",
    "\n",
    "# Drop rows with missing data\n",
    "df = df.dropna()\n",
    "\n",
    "# Fill missing data with a value\n",
    "df = df.fillna(0)\n",
    "\n",
    "# Replace missing data with a value\n",
    "df = df.replace(np.nan, 0)\n",
    "\n",
    "# Interpolate missing data\n",
    "df = df.interpolate()\n",
    "\n",
    "# Print the resulting DataFrame\n",
    "print(df)"
   ]
  },
  {
   "cell_type": "code",
   "execution_count": 22,
   "metadata": {},
   "outputs": [
    {
     "name": "stdout",
     "output_type": "stream",
     "text": [
      "                      name     real_name   age  folllowers\n",
      "Abel         1  The Weeknd          Abel  33.0      5000.0\n",
      "Shéyaa Bin   2   21 Savage    Shéyaa Bin  29.0      1000.0\n",
      "Aubrey       3       Drake        Aubrey  41.0      1300.0\n",
      "Travis Scott 4         NaN  Travis Scott   NaN         NaN\n"
     ]
    }
   ],
   "source": [
    "#10 Perform the Hierarchical Indexing in the above created dataset.  \n",
    "\n",
    "import pandas as pd\n",
    "\n",
    "# Create a dictionary of pets\n",
    "pets = {\n",
    "    'name': ['The Weeknd', '21 Savage', 'Drake',  np.nan],\n",
    "    'real_name': ['Abel', 'Shéyaa Bin', 'Aubrey', 'Travis Scott'],\n",
    "    'age': [33, 29, 41, np.nan],\n",
    "    'folllowers': [5000.0, 1000.0, 1300.0, np.nan]\n",
    "}\n",
    "\n",
    "# Create a DataFrame from the dictionary with hierarchical indexing\n",
    "df = pd.DataFrame(pets, index=[['Abel', 'Shéyaa Bin', 'Aubrey', 'Travis Scott'], [1, 2, 3, 4]])\n",
    "\n",
    "# Print the resulting DataFrame with hierarchical indexing\n",
    "print(df)"
   ]
  }
 ],
 "metadata": {
  "kernelspec": {
   "display_name": "Python 3.10.11 64-bit (microsoft store)",
   "language": "python",
   "name": "python3"
  },
  "language_info": {
   "codemirror_mode": {
    "name": "ipython",
    "version": 3
   },
   "file_extension": ".py",
   "mimetype": "text/x-python",
   "name": "python",
   "nbconvert_exporter": "python",
   "pygments_lexer": "ipython3",
   "version": "3.10.11"
  },
  "orig_nbformat": 4,
  "vscode": {
   "interpreter": {
    "hash": "e1a611bfe618ddced957fae6e2b829e3db4b5e8138885cb3bfce781d42e2449a"
   }
  }
 },
 "nbformat": 4,
 "nbformat_minor": 2
}
