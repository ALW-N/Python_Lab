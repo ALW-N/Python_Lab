{
 "cells": [
  {
   "cell_type": "code",
   "execution_count": 9,
   "metadata": {},
   "outputs": [
    {
     "name": "stdout",
     "output_type": "stream",
     "text": [
      "Matrix 1:\n",
      " [[1. 2. 3.]\n",
      " [4. 1. 2.]\n",
      " [3. 4. 1.]]\n",
      "Matrix 2:\n",
      " [[2. 5. 6.]\n",
      " [7. 3. 4.]\n",
      " [5. 2. 3.]]\n",
      "Product:\n",
      " [[ 2. 10. 18.]\n",
      " [28.  3.  8.]\n",
      " [15.  8.  3.]]\n",
      "Multiplication:\n",
      " [[ 2. 10. 18.]\n",
      " [28.  3.  8.]\n",
      " [15.  8.  3.]]\n",
      "Dot Product:\n",
      " [[31. 17. 23.]\n",
      " [25. 27. 34.]\n",
      " [39. 29. 37.]]\n"
     ]
    }
   ],
   "source": [
    "'''Q1. Create two 3×3 matrices using the random function in Numpy and perform the following operations.\n",
    " Product (prod)\n",
    " Multiplication (multiply)\n",
    " Dot Product (dot)'''\n",
    "import numpy as np\n",
    "\n",
    "matrix1 = np.array([[float(input(\"Enter value for matrix1[{}][{}]: \".format(i, j))) for j in range(3)] for i in range(3)])\n",
    "matrix2 = np.array([[float(input(\"Enter value for matrix2[{}][{}]: \".format(i, j))) for j in range(3)] for i in range(3)])\n",
    "\n",
    "# Perform product operation\n",
    "product = np.prod([matrix1, matrix2], axis=0)\n",
    "\n",
    "# Perform multiplication operation\n",
    "multiplication = np.multiply(matrix1, matrix2)\n",
    "\n",
    "# Perform dot product operation\n",
    "dot_product = np.dot(matrix1, matrix2)\n",
    "\n",
    "# Print the matrices and the results of the operations\n",
    "print(\"Matrix 1:\\n\", matrix1)\n",
    "print(\"Matrix 2:\\n\", matrix2)\n",
    "print(\"Product:\\n\", product)\n",
    "print(\"Multiplication:\\n\", multiplication)\n",
    "print(\"Dot Product:\\n\", dot_product)"
   ]
  },
  {
   "cell_type": "code",
   "execution_count": 2,
   "metadata": {},
   "outputs": [
    {
     "name": "stdout",
     "output_type": "stream",
     "text": [
      "[1 2 3 4 5]\n",
      "[3 4 5 6 7]\n",
      "Union Result:\n",
      "[1 2 3 4 5 6 7]\n",
      "Intersection Result:\n",
      "[3 4 5]\n",
      "Set Difference Result (set1 - set2):\n",
      "[1 2]\n",
      "XOR (Symmetric Difference) Result:\n",
      "[1 2 6 7]\n"
     ]
    }
   ],
   "source": [
    "'''Q2. Perform the following set operations using the Numpy functions.\n",
    "è Union\n",
    "è Intersection\n",
    "è Set difference\n",
    "è XOR\n",
    "'''\n",
    "import numpy as np\n",
    "\n",
    "# Create two NumPy arrays to represent sets\n",
    "set1 = np.array([1, 2, 3, 4, 5])\n",
    "set2 = np.array([3, 4, 5, 6, 7])\n",
    "\n",
    "print(set1)\n",
    "print(set2)\n",
    "\n",
    "# Union\n",
    "union_result = np.union1d(set1, set2)\n",
    "print(\"Union Result:\")\n",
    "print(union_result)\n",
    "\n",
    "# Intersection\n",
    "intersection_result = np.intersect1d(set1, set2)\n",
    "print(\"Intersection Result:\")\n",
    "print(intersection_result)\n",
    "\n",
    "# Set Difference (set1 - set2)\n",
    "set_difference_result = np.setdiff1d(set1, set2)\n",
    "print(\"Set Difference Result (set1 - set2):\")\n",
    "print(set_difference_result)\n",
    "\n",
    "# XOR (Symmetric Difference)\n",
    "xor_result = np.setxor1d(set1, set2)\n",
    "print(\"XOR (Symmetric Difference) Result:\")\n",
    "print(xor_result)"
   ]
  },
  {
   "cell_type": "code",
   "execution_count": 17,
   "metadata": {},
   "outputs": [
    {
     "name": "stdout",
     "output_type": "stream",
     "text": [
      "Array:\n",
      "[7 6 8 6 0 7 0 6 9 1]\n",
      "\n",
      "Cumulative sum:\n",
      "[ 7 13 21 27 27 34 34 40 49 50]\n",
      "\n",
      "Cumulative product:\n",
      "[   7   42  336 2016    0    0    0    0    0    0]\n",
      "\n",
      "Discrete difference (n=3):\n",
      "[ -7   0  17 -27  27 -16  -8]\n",
      "\n",
      "Unique elements:\n",
      "[0 1 6 7 8 9]\n"
     ]
    }
   ],
   "source": [
    "'''Q3. Create a 1D array using Random function and perform the following operations.\n",
    "è Cumulative sum\n",
    "è Cumulative Product\n",
    "è Discrete difference (with n=3)\n",
    "è Find the unique elements from the array'''\n",
    "\n",
    "import numpy as np\n",
    "\n",
    "array = np.random.randint(10, size=10)\n",
    "\n",
    "print(\"Array:\")\n",
    "print(array)\n",
    "\n",
    "# Calculate the cumulative sum of the array\n",
    "cumulative_sum = np.cumsum(array)\n",
    "\n",
    "# Print the cumulative sum\n",
    "print(\"\\nCumulative sum:\")\n",
    "print(cumulative_sum)\n",
    "\n",
    "# Calculate the cumulative product of the array\n",
    "cumulative_product = np.cumprod(array)\n",
    "\n",
    "# Print the cumulative product\n",
    "print(\"\\nCumulative product:\")\n",
    "print(cumulative_product)\n",
    "\n",
    "# Calculate the discrete difference of the array with n=3\n",
    "discrete_difference = np.diff(array, n=3)\n",
    "\n",
    "# Print the discrete difference\n",
    "print(\"\\nDiscrete difference (n=3):\")\n",
    "print(discrete_difference)\n",
    "\n",
    "# Find the unique elements from the array\n",
    "unique_elements = np.unique(array)\n",
    "\n",
    "print(\"\\nUnique elements:\")\n",
    "print(unique_elements)"
   ]
  },
  {
   "cell_type": "code",
   "execution_count": 15,
   "metadata": {},
   "outputs": [
    {
     "name": "stdout",
     "output_type": "stream",
     "text": [
      "Addition using zip():\n",
      "[11, 8, 20, 27, 34]\n",
      "Addition using numpy.add():\n",
      "[11  8 20 27 34]\n",
      "Addition using user-defined function (frompyfunc()):\n",
      "[11 8 20 27 34]\n"
     ]
    }
   ],
   "source": [
    "'''Q4. Create two 1D array and perform the Addition using zip(), add() and user defined function (frompyfunc())'''\n",
    "import numpy as np\n",
    "\n",
    "# Create two 1D arrays\n",
    "array1 = np.array([10,5,15,20,25])\n",
    "array2 = np.array([1,3,5,7,9])\n",
    "\n",
    "# Perform addition using zip()\n",
    "addition_zip = [x + y for x, y in zip(array1, array2)]\n",
    "print(\"Addition using zip():\")\n",
    "print(addition_zip)\n",
    "\n",
    "# Perform addition using numpy.add()\n",
    "addition_np = np.add(array1, array2)\n",
    "print(\"Addition using numpy.add():\")\n",
    "print(addition_np)\n",
    "\n",
    "# Define a user-defined addition function using numpy.frompyfunc()\n",
    "def custom_add(x, y):\n",
    "    return x + y\n",
    "\n",
    "addition_custom = np.frompyfunc(custom_add, 2, 1)(array1, array2)\n",
    "print(\"Addition using user-defined function (frompyfunc()):\")\n",
    "print(addition_custom)"
   ]
  },
  {
   "cell_type": "code",
   "execution_count": 14,
   "metadata": {},
   "outputs": [
    {
     "name": "stdout",
     "output_type": "stream",
     "text": [
      "Array: [11, 23, 30, 6]\n",
      "LCM of the elements: 7590\n",
      "GCD of the elements: 1\n"
     ]
    }
   ],
   "source": [
    "'''Q5. Find the LCM (Least Common Multiple) and GCD (Greatest Common Divisor) of an array of elements using reduce().'''\n",
    "\n",
    "from functools import reduce\n",
    "import math\n",
    "\n",
    "# Define a function to find the LCM of two numbers\n",
    "def lcm(x, y):\n",
    "    return x * y // math.gcd(x, y)\n",
    "\n",
    "# Define a function to find the GCD of two numbers\n",
    "def gcd(x, y):\n",
    "    return math.gcd(x, y)\n",
    "\n",
    "# Example array of elements\n",
    "array = [11,23,30,6]\n",
    "\n",
    "# Find the LCM of the elements in the array\n",
    "lcm_result = reduce(lcm, array)\n",
    "\n",
    "# Find the GCD of the elements in the array\n",
    "gcd_result = reduce(gcd, array)\n",
    "\n",
    "print(\"Array:\", array)\n",
    "print(\"LCM of the elements:\", lcm_result)\n",
    "print(\"GCD of the elements:\", gcd_result)"
   ]
  }
 ],
 "metadata": {
  "kernelspec": {
   "display_name": "Python 3.10.11 64-bit (microsoft store)",
   "language": "python",
   "name": "python3"
  },
  "language_info": {
   "codemirror_mode": {
    "name": "ipython",
    "version": 3
   },
   "file_extension": ".py",
   "mimetype": "text/x-python",
   "name": "python",
   "nbconvert_exporter": "python",
   "pygments_lexer": "ipython3",
   "version": "3.10.11"
  },
  "orig_nbformat": 4,
  "vscode": {
   "interpreter": {
    "hash": "1704d82db313c30353341b48f5984be14ddf72395b17ffe8652315dced0401ea"
   }
  }
 },
 "nbformat": 4,
 "nbformat_minor": 2
}
