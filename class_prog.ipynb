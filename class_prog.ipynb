{
 "cells": [
  {
   "cell_type": "code",
   "execution_count": 4,
   "metadata": {},
   "outputs": [
    {
     "name": "stdout",
     "output_type": "stream",
     "text": [
      "This is the child class\n",
      "this is the parent class\n"
     ]
    }
   ],
   "source": [
    "class music_streaming_service:\n",
    "    def func(self):\n",
    "        print(\"this is the parent class\")\n",
    "\n",
    "class artist(music_streaming_service):\n",
    "    def func1(self):\n",
    "        print(\"This is the child class\")\n",
    "\n",
    "object = artist()\n",
    "object.func1()\n",
    "object.func()\n"
   ]
  }
 ],
 "metadata": {
  "kernelspec": {
   "display_name": "Python 3.10.11 64-bit (microsoft store)",
   "language": "python",
   "name": "python3"
  },
  "language_info": {
   "codemirror_mode": {
    "name": "ipython",
    "version": 3
   },
   "file_extension": ".py",
   "mimetype": "text/x-python",
   "name": "python",
   "nbconvert_exporter": "python",
   "pygments_lexer": "ipython3",
   "version": "3.10.11"
  },
  "orig_nbformat": 4,
  "vscode": {
   "interpreter": {
    "hash": "1704d82db313c30353341b48f5984be14ddf72395b17ffe8652315dced0401ea"
   }
  }
 },
 "nbformat": 4,
 "nbformat_minor": 2
}
