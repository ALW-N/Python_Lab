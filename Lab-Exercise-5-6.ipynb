{
 "cells": [
  {
   "cell_type": "code",
   "execution_count": 15,
   "metadata": {},
   "outputs": [
    {
     "name": "stdout",
     "output_type": "stream",
     "text": [
      "NameError occured.......\n",
      "The try...except block is finished\n"
     ]
    }
   ],
   "source": [
    "def fun(a):\n",
    "    if a<4:\n",
    "        # raise Exception(\"No numbers below 4\")\n",
    "        b = a/(a-3)\n",
    "\n",
    "    print('Value of b: ',b)\n",
    "\n",
    "try:\n",
    "    # fun(3)\n",
    "    fun(5)\n",
    "\n",
    "except ZeroDivisionError:\n",
    "    print(\"ZeroDivisionError occured......\")\n",
    "except NameError:\n",
    "    print('NameError occured.......')\n",
    "finally:\n",
    "  print(\"The try...except block is finished\")\n"
   ]
  },
  {
   "cell_type": "code",
   "execution_count": 27,
   "metadata": {},
   "outputs": [
    {
     "name": "stdout",
     "output_type": "stream",
     "text": [
      "Valid number is found  776-008-8754\n"
     ]
    }
   ],
   "source": [
    "import re\n",
    "\n",
    "user_input = input('Enter a sentence conatining a number')\n",
    "# test = user_input.split(' ')\n",
    "# print(test)\n",
    "find_num = re.compile(r\"\\d{3}-\\d{3}-\\d{4}\")\n",
    "find_match = find_num.findall(user_input)\n",
    "if find_match:\n",
    "    print(\"Valid number is found \" , user_input)\n",
    "else:\n",
    "    print('Invalid number or no number')\n"
   ]
  }
 ],
 "metadata": {
  "kernelspec": {
   "display_name": "Python 3.10.11 64-bit (microsoft store)",
   "language": "python",
   "name": "python3"
  },
  "language_info": {
   "codemirror_mode": {
    "name": "ipython",
    "version": 3
   },
   "file_extension": ".py",
   "mimetype": "text/x-python",
   "name": "python",
   "nbconvert_exporter": "python",
   "pygments_lexer": "ipython3",
   "version": "3.10.11"
  },
  "orig_nbformat": 4,
  "vscode": {
   "interpreter": {
    "hash": "1704d82db313c30353341b48f5984be14ddf72395b17ffe8652315dced0401ea"
   }
  }
 },
 "nbformat": 4,
 "nbformat_minor": 2
}
