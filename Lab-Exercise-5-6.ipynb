{
 "cells": [
  {
   "cell_type": "code",
   "execution_count": 15,
   "metadata": {},
   "outputs": [
    {
     "name": "stdout",
     "output_type": "stream",
     "text": [
      "NameError occured.......\n",
      "The try...except block is finished\n"
     ]
    }
   ],
   "source": [
    "def fun(a):\n",
    "    if a<4:\n",
    "        # raise Exception(\"No numbers below 4\")\n",
    "        b = a/(a-3)\n",
    "\n",
    "    print('Value of b: ',b)\n",
    "\n",
    "try:\n",
    "    # fun(3)\n",
    "    fun(5)\n",
    "\n",
    "except ZeroDivisionError:\n",
    "    print(\"ZeroDivisionError occured......\")\n",
    "except NameError:\n",
    "    print('NameError occured.......')\n",
    "finally:\n",
    "  print(\"The try...except block is finished\")\n"
   ]
  },
  {
   "cell_type": "code",
   "execution_count": 30,
   "metadata": {},
   "outputs": [
    {
     "name": "stdout",
     "output_type": "stream",
     "text": [
      "valid phone number(s):  123-234-1234\n"
     ]
    }
   ],
   "source": [
    "import re\n",
    "import string\n",
    "\n",
    "RE_phone = re.compile(\"^[a-z0-9]{3}-[a-z0-9]{3}-[a-z0-9]{4}$\")\n",
    "\n",
    "def phone():\n",
    "    str1 = str(input(\"enter your details\"))\n",
    "    li = list(str1.split(\" \"))\n",
    "    for i in range(0,len(li)):\n",
    "        if RE_phone.match(li[i]):\n",
    "            print(\"valid phone number: \",li[i])\n",
    "phone()"
   ]
  },
  {
   "cell_type": "code",
   "execution_count": 33,
   "metadata": {},
   "outputs": [
    {
     "name": "stdout",
     "output_type": "stream",
     "text": [
      "@qwerty123\n",
      "The password is strong\n"
     ]
    }
   ],
   "source": [
    "def password():\n",
    "    pass1 = str(input(\"enter your password\"))\n",
    "    print(pass1)\n",
    "    if re.fullmatch(r\"^[A-Za-z0-9@#$%^&+=]{8,}$\", pass1):\n",
    "        print(\"The password is strong\")\n",
    "    else:\n",
    "        print(\"The password is weak\")\n",
    "password()"
   ]
  }
 ],
 "metadata": {
  "kernelspec": {
   "display_name": "Python 3.10.11 64-bit (microsoft store)",
   "language": "python",
   "name": "python3"
  },
  "language_info": {
   "codemirror_mode": {
    "name": "ipython",
    "version": 3
   },
   "file_extension": ".py",
   "mimetype": "text/x-python",
   "name": "python",
   "nbconvert_exporter": "python",
   "pygments_lexer": "ipython3",
   "version": "3.10.11"
  },
  "orig_nbformat": 4,
  "vscode": {
   "interpreter": {
    "hash": "1704d82db313c30353341b48f5984be14ddf72395b17ffe8652315dced0401ea"
   }
  }
 },
 "nbformat": 4,
 "nbformat_minor": 2
}
